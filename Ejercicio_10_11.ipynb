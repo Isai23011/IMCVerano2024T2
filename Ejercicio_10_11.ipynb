{
 "cells": [
  {
   "cell_type": "code",
   "execution_count": 1,
   "metadata": {},
   "outputs": [],
   "source": [
    "import math"
   ]
  },
  {
   "cell_type": "markdown",
   "metadata": {},
   "source": [
    "# Ejercicio 10"
   ]
  },
  {
   "cell_type": "markdown",
   "metadata": {},
   "source": [
    "10. Sólo para practicar. Se tiene la palabra MURCIÉLAGO. Si no se permiten repeticiones al usar \n",
    "las letras que la forman, determina:\n",
    "\n",
    "a) El número de palabras que puedes crear."
   ]
  },
  {
   "cell_type": "markdown",
   "metadata": {},
   "source": [
    "Para encontrar cuántas palabras diferentes se pueden formar con las 10 letras de **\"MURCIELAGO\"** sin repetir ninguna, usamos la fórmula **n!** (n factorial), que es la multiplicacion de todos los números enteros desde n hasta 1.\n",
    "\n",
    "$$\n",
    "\\begin{align}\n",
    "    P(n) &= n!\\\\\n",
    "    P(10) &= 10!\\\\\n",
    "    P(10) &= 10 \\cdot 9 \\cdot 8 \\cdot 7 \\cdot 6 \\cdot 5 \\cdot 4 \\cdot 3 \\cdot 2 \\cdot 1\\\\\n",
    "    P(10) &= 3,628,800\n",
    "\\end{align}\n",
    "$$\n",
    "\n",
    "Por lo tanto se puedes formar **3,628,800** palabrabras solo utilizando las 10 letras de la palabra **MURCIELAGO** sin repeticiones."
   ]
  },
  {
   "cell_type": "code",
   "execution_count": 2,
   "metadata": {},
   "outputs": [
    {
     "name": "stdout",
     "output_type": "stream",
     "text": [
      "Hay 3628800 palabras usando: M, U, R, C, I, E, L, A, G y O\n"
     ]
    }
   ],
   "source": [
    "# Implementacion de la solucion del inciso a) del ejercicio 10\n",
    "print(f'Hay {math.factorial(10)} palabras usando: M, U, R, C, I, E, L, A, G y O') "
   ]
  },
  {
   "cell_type": "markdown",
   "metadata": {},
   "source": [
    "b) El número de palabras con cinco letras."
   ]
  },
  {
   "cell_type": "markdown",
   "metadata": {},
   "source": [
    "Para encontrar cuántas palabras de 5 letras se pueden formar con las letras de **\"MURCIELAGO\"** sin repetir ninguna, utilizamos la fórmula de permutaciones, que es:\n",
    "\n",
    "$$\n",
    "\\begin{align}\n",
    "    _nP_r &= \\dfrac{n!}{(n - r)!}\\\\\n",
    "    _10P_5 &= \\dfrac{10!}{(10 - 5)!}\\\\\n",
    "    _10P_3 &= \\dfrac{10!}{5!} = \\dfrac{3,628,800}{120}\\\\\n",
    "    _10P_3 &= 30,240\n",
    "\\end{align}\n",
    "$$\n",
    "\n",
    "Por lo tanto se puedes formar **30,240** palabrabras de 5 letras utilizando las 10 letras de la palabra **MURCIELAGO** sin repeticiones."
   ]
  },
  {
   "cell_type": "code",
   "execution_count": 3,
   "metadata": {},
   "outputs": [
    {
     "name": "stdout",
     "output_type": "stream",
     "text": [
      "Hay 30240 palabras de 5 letras usando: M, U, R, C, I, E, L, A, G y O\n"
     ]
    }
   ],
   "source": [
    "# Implementacion de la solucion del inciso b) del ejercicio 10\n",
    "n, r = 10, 5\n",
    "numbers_of_3_digits = math.perm(n, r)\n",
    "print(f'Hay {numbers_of_3_digits} palabras de 5 letras usando: M, U, R, C, I, E, L, A, G y O')"
   ]
  },
  {
   "cell_type": "markdown",
   "metadata": {},
   "source": [
    "c) La probabilidad de que una palabra de cinco letras termine en vocal"
   ]
  },
  {
   "cell_type": "markdown",
   "metadata": {},
   "source": [
    "Para encontrar la probabilidad de que una palabra de 5 letras termine en vocal, consideramos que la palabra **MURCIELAGO** tiene 5 vocales (A, E, I, O, U). Por lo tanto, seguimos el patrón 9, 8, 7, 6, **5** donde el último dígito representa el número de vocales disponibles. Luego elegimos las otras 4 letras de las 9 restantes (ya que hemos usado una letra para la última posición). Esto se calcula utilizando las permutaciones de las 4 letras restantes:\n",
    "\n",
    "$$\n",
    "\\begin{align}\n",
    "    9 \\cdot 8 \\cdot 7 \\cdot 6 \\cdot 5 = 15,120\n",
    "\\end{align}\n",
    "$$\n",
    "\n",
    "Para calcular la probabilidad, dividimos el número de palabras que terminan en vocal entre el total de palabras de 5 letras:\n",
    "\n",
    "$$\n",
    "\\begin{align}\n",
    "    Probabilidad &= \\dfrac{15,120}{30,240}\\\\\n",
    "     Probabilidad &= 0.5 \n",
    "\\end{align}\n",
    "$$\n",
    "\n",
    "Por lo tanto, la probabilidad de que una palabra de 5 letras termine en vocal es 0.5 o 50%.\n"
   ]
  },
  {
   "cell_type": "code",
   "execution_count": 4,
   "metadata": {},
   "outputs": [
    {
     "name": "stdout",
     "output_type": "stream",
     "text": [
      "La probabilidad de que la ultima letra sea vocal es de 0.5 %\n"
     ]
    }
   ],
   "source": [
    "# Implementacion de la solucion del inciso c) del ejercicio 10\n",
    "p = 9 * 8 * 7 * 6 * 5\n",
    "probabilidad = p / 30240\n",
    "print(f'La probabilidad de que la ultima letra sea vocal es de {probabilidad} %')"
   ]
  }
 ],
 "metadata": {
  "kernelspec": {
   "display_name": "Python 3",
   "language": "python",
   "name": "python3"
  },
  "language_info": {
   "codemirror_mode": {
    "name": "ipython",
    "version": 3
   },
   "file_extension": ".py",
   "mimetype": "text/x-python",
   "name": "python",
   "nbconvert_exporter": "python",
   "pygments_lexer": "ipython3",
   "version": "3.11.9"
  }
 },
 "nbformat": 4,
 "nbformat_minor": 2
}
